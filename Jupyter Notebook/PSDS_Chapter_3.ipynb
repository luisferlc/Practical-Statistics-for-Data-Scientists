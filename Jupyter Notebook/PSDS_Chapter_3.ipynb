{
 "cells": [
  {
   "cell_type": "markdown",
   "metadata": {},
   "source": [
    "# Chapter\t3.\tStatistical\tExperiments and\tSignificance\tTesting"
   ]
  },
  {
   "cell_type": "markdown",
   "metadata": {},
   "source": [
    "En estadística tradicional, si tu quieres probar algo, osea, comprobar un hipótesis por ejemplo, tienes que diseñar y ejecutar un experimento."
   ]
  },
  {
   "cell_type": "markdown",
   "metadata": {},
   "source": [
    "### A/B Testing\n",
    "La comparación de dos grupos, procesos, productos, para comprobar que B es \"mejor\" que A. Por lo general, A es el objeto estandár, o el producto actual, el cual es el control. La hipótesis generalmente es: \"B es mejor que el control\".\n",
    "\n",
    "#### Ejemplos:\n",
    "- Comparar dos 'ads' para ver cual de ellas genera más conversiones.\n",
    "- Comparar dos diseños de front-end para ver cual de ellos recibe más clicks en una parte específica.\n",
    "- Comparar dos tratamientos para ver cual sirve más para atacar el cáncer.\n",
    "- Comparar dos precios para ver cual genera más utilidades.\n",
    "\n",
    "#### Participantes o conceptos clave en un A/B Test:\n",
    "- Treatment: El objeto con el cual se va realizar la comparación, osea, un precio, una droga, el 'ad' que se desea ver cual genera más profit... Es el objeto al cual estan expuestos los sujetos.\n",
    "- Treatment\tgroup: Grupo de sujetos expuestos a un trato específico.\n",
    "- Control\tgroup: Grupo de sujetos expuestos al tratamiento estándar.\n",
    "- Randomization: Proceso de asignación random a los tratamientos.\n",
    "- Subjects: los objetos que van a trabajar con los tratamientos.\n",
    "- Test: La métrica estadística que se usara para la inferencia final.\n",
    "\n",
    "En ciencia de datos, A/B testing se utiliza típicamente para comparar dos diseños de páginas web, en donde se buscan comparar el número de clicks, tiempo que los subjects duran en la página, # de clicks, # de compras, # de páginas visitadas..."
   ]
  },
  {
   "cell_type": "markdown",
   "metadata": {},
   "source": [
    "_**Un poco de ética en el tema:**_\n",
    "En la academica y el ámbito de la medicina, si se pide permiso a los sujetos para realizar experimentos, en el mundo de los negocios y las redes sociales, casi no...\n",
    "En el libro se menciona que Facebook utilizó análisis de sentimiento para clasificar los posts de los usuarios como \"positivos\" y \"negativos\". A usuarios seleccionados de manera random se les mostraron posts positivos y negativos, y Facebook encontró que después de que los sujetos interactuaran con este nuevo feed, sus posts siguieron la tendencia positiva o negativa con la que habían interactuado."
   ]
  },
  {
   "cell_type": "markdown",
   "metadata": {},
   "source": [
    "### Hypothesis test\n",
    "Experimento de significancia: ¿Acaso lo random tiene significancia en esta observación? ¿Acaso el hecho de que seleccione sujetos random, no afecta el hecho de que A es mejor que B?\n",
    "\n",
    "#### Elementos base:\n",
    "- Hipótesis nula:  la intención es que nuestro experimento encuentre las pruebas para rechazar esta hipótesis, para probar que esta equivocada, para probar que la diferencia entre A y B va más allá de lo random.\n",
    "- Hipótesis alternativa: si mi intención es rechazar la nula, que es lo que queda? \n",
    "\n",
    "__Notas:__\n",
    "- las dos hipótesis deben incluir a todo el universo posible de resultados\n",
    "- hay experimentos \"one-way\" y \"two-ways\". El libro menciona que para ciencia de datos no es tan relevante la naturaleza de estos, pero que generalmente los softwares como R, utilizan \"two-way\".\n",
    "    - Si quiero hacer un test en R o Python, debo saber bien que tipo de hipótesis usan... etc etc.\n",
    "\n",
    "- __we\twill\trequire\tproof\tthat\tthe\tdifference\tbetween\tgroups\tis\tmore extreme\tthan\twhat\tchance\tmight\treasonably\tproduce__\n",
    "- __respecto a la hipótesis nula: This\tinvolves\ta\tbaseline assumption\tthat\tthe\ttreatments\tare\tequivalent,\tand\tany\tdifference\tbetween\tthe groups\tis\tdue\tto\tchance.\tThis\tbaseline\tassumption\tis\ttermed\tthe\tnull\thypothesis. Our\thope\tis\tthen\tthat\twe\tcan,\tin\tfact,\tprove\tthe\tnull\thypothesis\twrong,\tand\tshow that\tthe\toutcomes\tfor\tgroups\tA\tand\tB\tare\tmore\tdifferent\tthan\twhat\tchance\tmight produce.__\n",
    "\n"
   ]
  },
  {
   "cell_type": "markdown",
   "metadata": {},
   "source": [
    "### Resampling/Resampleo\n",
    "Repetidamente sacar muestras de una población para crear una muestra aleatoria, sin bias. Hay dos tipos de resampleo: Bootstrap y Permutation.\n",
    "\n",
    "#### Bootstrap:\n",
    "Se genera el muestreo con reemplazo,n veces. Esto hace que la estimación sea confiable, ya que no se sabe si la distribución de la muestra sera normal o que pedo.\n",
    "\n",
    "#### Permutation:\n",
    "Este método se usa para comprobar hipótesis. \n",
    "1. Juntas dos o más muestras y luego creas una muestra del mismo tamaño que A (por ejemplo) sin reemplazo. \n",
    "2. Haces esto para crear otra vez B y C y etc...\n",
    "3. Una vez que tienes tus nuevos grupos creados, generas sus estadísticos y ahí tienes #1 permutación."
   ]
  },
  {
   "cell_type": "markdown",
   "metadata": {},
   "source": [
    "#### Ejemplo: Web Stickiness\n",
    "Una empresa desea saber qué diseño web le va traer más ventas. Para poder realizar esto en un tiempo corto, se va utilizar una variable proxy, ya que el hecho de intentar con un diseño y luego con otro, va tomar mucho tiempo. Una variable proxy es aquella que te va ayudar a inferir tu variable real de interes.\n",
    "\n",
    "En este ejemplo, la variable proxy que utilizan es el tiempo que las personas pasan en la página A y B."
   ]
  },
  {
   "cell_type": "code",
   "execution_count": 1,
   "metadata": {},
   "outputs": [],
   "source": [
    "import pandas as pd\n",
    "import numpy as np\n",
    "import random"
   ]
  },
  {
   "cell_type": "code",
   "execution_count": 2,
   "metadata": {},
   "outputs": [],
   "source": [
    "df = pd.read_csv(\"D:/Documentos/Python for Data Projects/datos_practical_statistics/web_page_data.csv\")"
   ]
  },
  {
   "cell_type": "code",
   "execution_count": 3,
   "metadata": {},
   "outputs": [
    {
     "data": {
      "text/html": [
       "<div>\n",
       "<style scoped>\n",
       "    .dataframe tbody tr th:only-of-type {\n",
       "        vertical-align: middle;\n",
       "    }\n",
       "\n",
       "    .dataframe tbody tr th {\n",
       "        vertical-align: top;\n",
       "    }\n",
       "\n",
       "    .dataframe thead th {\n",
       "        text-align: right;\n",
       "    }\n",
       "</style>\n",
       "<table border=\"1\" class=\"dataframe\">\n",
       "  <thead>\n",
       "    <tr style=\"text-align: right;\">\n",
       "      <th></th>\n",
       "      <th>Page</th>\n",
       "      <th>Time</th>\n",
       "    </tr>\n",
       "  </thead>\n",
       "  <tbody>\n",
       "    <tr>\n",
       "      <th>0</th>\n",
       "      <td>Page A</td>\n",
       "      <td>0.21</td>\n",
       "    </tr>\n",
       "    <tr>\n",
       "      <th>1</th>\n",
       "      <td>Page B</td>\n",
       "      <td>2.53</td>\n",
       "    </tr>\n",
       "    <tr>\n",
       "      <th>2</th>\n",
       "      <td>Page A</td>\n",
       "      <td>0.35</td>\n",
       "    </tr>\n",
       "    <tr>\n",
       "      <th>3</th>\n",
       "      <td>Page B</td>\n",
       "      <td>0.71</td>\n",
       "    </tr>\n",
       "    <tr>\n",
       "      <th>4</th>\n",
       "      <td>Page A</td>\n",
       "      <td>0.67</td>\n",
       "    </tr>\n",
       "  </tbody>\n",
       "</table>\n",
       "</div>"
      ],
      "text/plain": [
       "     Page  Time\n",
       "0  Page A  0.21\n",
       "1  Page B  2.53\n",
       "2  Page A  0.35\n",
       "3  Page B  0.71\n",
       "4  Page A  0.67"
      ]
     },
     "execution_count": 3,
     "metadata": {},
     "output_type": "execute_result"
    }
   ],
   "source": [
    "df.head()"
   ]
  },
  {
   "cell_type": "code",
   "execution_count": 18,
   "metadata": {},
   "outputs": [
    {
     "data": {
      "text/html": [
       "<div>\n",
       "<style scoped>\n",
       "    .dataframe tbody tr th:only-of-type {\n",
       "        vertical-align: middle;\n",
       "    }\n",
       "\n",
       "    .dataframe tbody tr th {\n",
       "        vertical-align: top;\n",
       "    }\n",
       "\n",
       "    .dataframe thead th {\n",
       "        text-align: right;\n",
       "    }\n",
       "</style>\n",
       "<table border=\"1\" class=\"dataframe\">\n",
       "  <thead>\n",
       "    <tr style=\"text-align: right;\">\n",
       "      <th></th>\n",
       "      <th>Time</th>\n",
       "    </tr>\n",
       "    <tr>\n",
       "      <th>Page</th>\n",
       "      <th></th>\n",
       "    </tr>\n",
       "  </thead>\n",
       "  <tbody>\n",
       "    <tr>\n",
       "      <th>Page A</th>\n",
       "      <td>1.263333</td>\n",
       "    </tr>\n",
       "    <tr>\n",
       "      <th>Page B</th>\n",
       "      <td>1.620000</td>\n",
       "    </tr>\n",
       "  </tbody>\n",
       "</table>\n",
       "</div>"
      ],
      "text/plain": [
       "            Time\n",
       "Page            \n",
       "Page A  1.263333\n",
       "Page B  1.620000"
      ]
     },
     "execution_count": 18,
     "metadata": {},
     "output_type": "execute_result"
    }
   ],
   "source": [
    "df.groupby(\"Page\").mean()"
   ]
  },
  {
   "cell_type": "code",
   "execution_count": 16,
   "metadata": {},
   "outputs": [
    {
     "data": {
      "image/png": "[encoded data removed]",
      "text/plain": [
       "<Figure size 360x360 with 1 Axes>"
      ]
     },
     "metadata": {
      "needs_background": "light"
     },
     "output_type": "display_data"
    }
   ],
   "source": [
    "#Hay un total de 36 sesiones contadas: 21 para A y 15 para B.\n",
    "#Usando unos boxplot podemos visualizar los tiempos en cada página\n",
    "df.boxplot(['Time'], by='Page', figsize = (5,5));"
   ]
  },
  {
   "cell_type": "code",
   "execution_count": 29,
   "metadata": {},
   "outputs": [
    {
     "data": {
      "text/plain": [
       "Time    21.4\n",
       "dtype: float64"
      ]
     },
     "execution_count": 29,
     "metadata": {},
     "output_type": "execute_result"
    }
   ],
   "source": [
    "#restando las medias:\n",
    "(df[df.Page == 'Page B'].mean()- df[df.Page == 'Page A'].mean())*60\n",
    "#La diferencia de tiempo de sesión entre B respecto a A es 21.4 segundos. \n",
    "#Podrías concluir con esto que B es significativamente mejor que A? Acaso la diferencia esta dentro de lo random? es decir,\n",
    "#es estadísticamente significativo?\n",
    "#Vamos a aplicar un test de permutación"
   ]
  },
  {
   "cell_type": "code",
   "execution_count": null,
   "metadata": {},
   "outputs": [],
   "source": [
    "#Primero, vamos a crear una función que permita hacer la permutación:\n",
    "#Unir nuestras muestras praa luego crear dos muestras con 15 y 21 valores (B y A) sin reemplazo\n"
   ]
  },
  {
   "cell_type": "markdown",
   "metadata": {},
   "source": [
    "### Estadísticamente significativo y el P-Value/Statistical\tSignificance and\tP-Value\n",
    "Es el método utilizado por las personas que se dedican a la estadística para demostrar que la diferencia entre A y B es realmente significativa. Es decir, la diferencia que lo random puede llegar a decir entre A y B, si tendra un impacto significativo en los resultados."
   ]
  },
  {
   "cell_type": "code",
   "execution_count": null,
   "metadata": {},
   "outputs": [],
   "source": [
    "# reciclando la función de permutación del libro:\n",
    "def perm_fun(df,n1,n2):\n",
    "    n=n1+n2\n",
    "    idx_b"
   ]
  },
  {
   "cell_type": "code",
   "execution_count": 147,
   "metadata": {},
   "outputs": [],
   "source": [
    "#Primer paso: crear arreglos con todos los valores positivos(conversion rate true) y los negativos\n",
    "#https://stackoverflow.com/questions/26873415/python-random-array-of-0s-and-1s\n",
    "a = np.array([1]*382 + [0]*45945)"
   ]
  },
  {
   "cell_type": "code",
   "execution_count": 167,
   "metadata": {},
   "outputs": [
    {
     "data": {
      "text/plain": [
       "0    23559\n",
       "1      180\n",
       "Name: col, dtype: int64"
      ]
     },
     "execution_count": 167,
     "metadata": {},
     "output_type": "execute_result"
    }
   ],
   "source": [
    "#Segundo paso: revuelve el array y toma una muestra del tamaño de A que es 23,739, y cuenta cuantos 1s hay\n",
    "np.random.shuffle(a)\n",
    "x=pd.DataFrame(a,columns=['col'])\n",
    "x_A=x.sample(23739,replace=True)\n",
    "x_A.col.value_counts()"
   ]
  },
  {
   "cell_type": "code",
   "execution_count": 183,
   "metadata": {},
   "outputs": [
    {
     "data": {
      "text/plain": [
       "col    0\n",
       "Name: 1, dtype: int32"
      ]
     },
     "execution_count": 183,
     "metadata": {},
     "output_type": "execute_result"
    }
   ],
   "source": [
    "#Tercer paso y cuarto paso: guarda los demás valores para B y cuenta los 1s. Después\n",
    "x_A.index\n",
    "x_A.loc[1]"
   ]
  },
  {
   "cell_type": "code",
   "execution_count": null,
   "metadata": {},
   "outputs": [],
   "source": [
    "x2=[]\n",
    "for i in range(1000):\n",
    "    x = df.sample(2000)\n",
    "    x = x.to_numpy()\n",
    "    s = sum(x)\n",
    "    avg = s/2000\n",
    "    x2.append(int(avg))\n",
    "x2=pd.DataFrame(x2)"
   ]
  }
 ],
 "metadata": {
  "kernelspec": {
   "display_name": "Python 3",
   "language": "python",
   "name": "python3"
  },
  "language_info": {
   "codemirror_mode": {
    "name": "ipython",
    "version": 3
   },
   "file_extension": ".py",
   "mimetype": "text/x-python",
   "name": "python",
   "nbconvert_exporter": "python",
   "pygments_lexer": "ipython3",
   "version": "3.7.3"
  }
 },
 "nbformat": 4,
 "nbformat_minor": 2
}

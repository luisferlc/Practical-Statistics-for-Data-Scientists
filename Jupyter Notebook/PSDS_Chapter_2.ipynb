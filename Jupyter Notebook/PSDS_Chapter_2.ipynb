{
 "cells": [
  {
   "cell_type": "markdown",
   "metadata": {},
   "source": [
    "# Chapter 2. Data and Sampling Distribution"
   ]
  },
  {
   "cell_type": "markdown",
   "metadata": {},
   "source": [
    "La estadística tradicional se enfoca más en la población, mientras que la moderna trabaja principalmente con muestras. El autor menciona que un científico de datos debe enfocarse en la muestra."
   ]
  },
  {
   "cell_type": "markdown",
   "metadata": {},
   "source": [
    "---"
   ]
  },
  {
   "cell_type": "code",
   "execution_count": 1,
   "metadata": {},
   "outputs": [],
   "source": [
    "import pandas as pd\n",
    "import numpy as np\n",
    "import random"
   ]
  },
  {
   "cell_type": "markdown",
   "metadata": {},
   "source": [
    "## Muestreo aleatorio y errores aleatorios"
   ]
  },
  {
   "cell_type": "markdown",
   "metadata": {},
   "source": [
    "### Muestra aleatoria:\n",
    "Se extraen elementos de la población, en donde cada elemento tiene la misma probabilidad de ser elegido:\n",
    "- con reemplazo: cada elemento elegido se regresa a la población.\n",
    "- sin reemplazo los elementos elegidos se van excluyendo del sampleo.\n",
    "\n",
    "El resultado de este muestreo es llamado 'muestra aleatoria simple'\n",
    "\n",
    "_<font color=red>¿Crees que los reviews de restaurantes, bares, antros, lugares públicos en general, contienen reviews 'representativos'? Lo más seguro es que no. Ya que las personas que realizan estas críticas son aquellos que tienen alguna relación con los lugares. Malas experiencias, o conocidos ahí a los cuales les beneficiaría recibir críticas positivas (como Song Shan). Lo mejor sería elegir a las personas completamente aleatorio.</font>_"
   ]
  },
  {
   "cell_type": "markdown",
   "metadata": {},
   "source": [
    "### Sezgos/Bias\n",
    "Son errores derivados del sampleo aleatorio o las mediciones hechas. Se tiene que recordar que, al final de cuentas, un modelo va arrojar sus resultados basados en la muestra. Entonces, si quieres obtener el promedio de calificaciones de toda una universidad y en tu muestra estan los alumnos con mejores calificaciones, esto no mostrará la realidad.\n",
    "\n",
    "O también, quieres mapear las zonas en donde hay más actividad eléctrica dentro del hipocampo de una rata, pero el medidor esta averiado y gran parte de la actividad la toma solo de un lado, esto sería un error, un sezgo."
   ]
  },
  {
   "cell_type": "markdown",
   "metadata": {},
   "source": [
    "### Selección aleatoria\n",
    "¿Cómo le hacemos para elegir una muestra representativa? Por ejmeplo, tratando de entender nuestro cliente ITAMITA:\n",
    "1. Entender nuestro target, y la manera en la que elegimos nuestra muestra: ¿Son todos los alumnos? ¿O solo los que cursan los últimos semestres? ¿O solo los que llevan clases vespertinas? ¿O son aquellos que no son vegetarianos? ¿Serán los más sociables? ETC.\n",
    "\n",
    "_**Muestreo estratificado**: se generan grupos en la población con distintas características, para luego realizar muestreos aleatorios. Esto funciona cuando un encuestador político, por ejemplo, quiere conocer la opinión de los blancos, negros, latinos, asiáticos, etc..._"
   ]
  },
  {
   "cell_type": "markdown",
   "metadata": {},
   "source": [
    "### Tamaño vs Calidad: cuándo el tamaño tiene más peso?\n",
    "Acá se menciona el caso del auto-complete search, el cuál, entre más información tenga, mejor podrá predecir qué es lo que quiere encontrar la persona que busca."
   ]
  },
  {
   "cell_type": "markdown",
   "metadata": {},
   "source": [
    "## Sezgos de selección"
   ]
  },
  {
   "cell_type": "markdown",
   "metadata": {},
   "source": [
    "Acá se menciona el _**vast search effect**_, un termino acuñado por John Elder, el cual dice que, si se realizan muchos experimentos con diferentes hipótesis y diferentes muestreos, seguramente vas a encontrar algo interesante. Pero, ¿es acaso significativo esto? \n",
    "\n",
    "Para reforzar esto, el autor menciona el ejemplo de tirar una moneda 10 veces y ver si cae 'cara' las 10 veces. La probabilidad que eso pase cuando una persona lo hace es de 1 en 1000 (si pasaría, sería algo extraordinario), en cambio, la probabilidad de que esto pase si 20,00 personas lo hacen al mismo tiempo es 99%. Por lo tanto, no sería significativo. Acá es donde puede ocurrir un sezgo: _vast search effect_\n",
    "\n",
    "Otras formas de sezgos de seleccion:\n",
    "- sampleo no-aleatorio.\n",
    "- cherry-picking data: escoger los datos de manera específica para obtener un resultado.\n",
    "- elegir los datos dentro de un periodo de tiempo, en donde el efecto se manifiesta de manera particular.\n",
    "- detener el experimento cuando el resultado es interesante.\n",
    "\n",
    "#### Regresión a la media\n",
    "Medición excesiva de una variable. Osea, solo ver los puntos en donde el valor de una variable es excesivo, y por lo tanto, a través del tiempo esto no sera igual siempre, va regresasr a la media tarde o temprano.\n",
    "\n",
    "Por ejemplo, el 'rookie of the year': Este personaje se compone de su habilidad y suerte durante la temporada que fue galardonado, sin embargo, la siguiente temporada es muy probable que siga teniendo su habilidad, pero no la misma suerte. O también, los hijos de personas muy altas. Estos chamacos tienden a ser más chaparros cuando sus padres son más altos que la media, por otro lado, los hijos que resultan ser más altos que sus padres, son aquellos que sus padres miden por debajo de la media. Es decir, esta teoría rechaza que 'entre más alto el padre, más alto será el hijo', o, 'hoy fui rookie of the year, mi habilidad es enorme y seguire siendolo unos 3 años más porque estoy a tope', NO, porque la suerte seguramente no será la misma. Las cosas cambian.\n",
    "\n",
    "Autor de la teoría: Francis Galton"
   ]
  },
  {
   "cell_type": "markdown",
   "metadata": {},
   "source": [
    "## Distribución de muestreo de una estadística\n",
    "Es clave la manera en la que seleccionas tu muestra. Esto determinara la distribución de esos datos."
   ]
  },
  {
   "cell_type": "code",
   "execution_count": 2,
   "metadata": {},
   "outputs": [],
   "source": [
    "df = pd.read_csv(\"D:/Documentos/Python for Data Projects/datos_practical_statistics/loans_income.csv\")"
   ]
  },
  {
   "cell_type": "code",
   "execution_count": 5,
   "metadata": {},
   "outputs": [
    {
     "data": {
      "text/html": [
       "<div>\n",
       "<style scoped>\n",
       "    .dataframe tbody tr th:only-of-type {\n",
       "        vertical-align: middle;\n",
       "    }\n",
       "\n",
       "    .dataframe tbody tr th {\n",
       "        vertical-align: top;\n",
       "    }\n",
       "\n",
       "    .dataframe thead th {\n",
       "        text-align: right;\n",
       "    }\n",
       "</style>\n",
       "<table border=\"1\" class=\"dataframe\">\n",
       "  <thead>\n",
       "    <tr style=\"text-align: right;\">\n",
       "      <th></th>\n",
       "      <th>x</th>\n",
       "    </tr>\n",
       "  </thead>\n",
       "  <tbody>\n",
       "    <tr>\n",
       "      <th>0</th>\n",
       "      <td>67000</td>\n",
       "    </tr>\n",
       "    <tr>\n",
       "      <th>1</th>\n",
       "      <td>52000</td>\n",
       "    </tr>\n",
       "    <tr>\n",
       "      <th>2</th>\n",
       "      <td>100000</td>\n",
       "    </tr>\n",
       "    <tr>\n",
       "      <th>3</th>\n",
       "      <td>78762</td>\n",
       "    </tr>\n",
       "    <tr>\n",
       "      <th>4</th>\n",
       "      <td>37041</td>\n",
       "    </tr>\n",
       "  </tbody>\n",
       "</table>\n",
       "</div>"
      ],
      "text/plain": [
       "        x\n",
       "0   67000\n",
       "1   52000\n",
       "2  100000\n",
       "3   78762\n",
       "4   37041"
      ]
     },
     "execution_count": 5,
     "metadata": {},
     "output_type": "execute_result"
    }
   ],
   "source": [
    "df.head()"
   ]
  },
  {
   "cell_type": "markdown",
   "metadata": {},
   "source": [
    "#### Ejemplo:\n",
    "1. Selección aleatoria de 1,000 valores.\n",
    "2. Coje 1,000 veces 5 valores aleatorios y saca su promedio.\n",
    "3. Coje 1,000 veces 20 valores aleatorios y saca su promedio."
   ]
  },
  {
   "cell_type": "code",
   "execution_count": 3,
   "metadata": {},
   "outputs": [
    {
     "data": {
      "text/plain": [
       "(1000, 1)"
      ]
     },
     "execution_count": 3,
     "metadata": {},
     "output_type": "execute_result"
    }
   ],
   "source": [
    "#1.-\n",
    "x1 = df.sample(1000)\n",
    "x1.shape"
   ]
  },
  {
   "cell_type": "code",
   "execution_count": 36,
   "metadata": {},
   "outputs": [],
   "source": [
    "#2.-\n",
    "x2=[]\n",
    "for i in range(1000):\n",
    "    x = df.sample(5)\n",
    "    x = x.to_numpy()\n",
    "    s = sum(x)\n",
    "    avg = s/5\n",
    "    x2.append(avg)"
   ]
  },
  {
   "cell_type": "code",
   "execution_count": 2,
   "metadata": {},
   "outputs": [],
   "source": [
    "#len(x2),x2"
   ]
  },
  {
   "cell_type": "code",
   "execution_count": 52,
   "metadata": {},
   "outputs": [],
   "source": [
    "#3.-\n",
    "x3=[]\n",
    "for i in range(1000):\n",
    "    x = df.sample(100)\n",
    "    x = x.to_numpy()\n",
    "    s = sum(x)\n",
    "    avg = s/100\n",
    "    x3.append(avg)"
   ]
  },
  {
   "cell_type": "code",
   "execution_count": 3,
   "metadata": {},
   "outputs": [],
   "source": [
    "#len(x3),x3"
   ]
  },
  {
   "cell_type": "code",
   "execution_count": 46,
   "metadata": {},
   "outputs": [
    {
     "data": {
      "text/plain": [
       "array([[<matplotlib.axes._subplots.AxesSubplot object at 0x000001B28E5B19E8>]],\n",
       "      dtype=object)"
      ]
     },
     "execution_count": 46,
     "metadata": {},
     "output_type": "execute_result"
    },
    {
     "data": {
      "image/png": "[encoded data removed]",
      "text/plain": [
       "<Figure size 432x288 with 1 Axes>"
      ]
     },
     "metadata": {
      "needs_background": "light"
     },
     "output_type": "display_data"
    }
   ],
   "source": [
    "x1.hist()"
   ]
  },
  {
   "cell_type": "code",
   "execution_count": 47,
   "metadata": {},
   "outputs": [
    {
     "data": {
      "text/plain": [
       "array([[<matplotlib.axes._subplots.AxesSubplot object at 0x000001B28E659B70>]],\n",
       "      dtype=object)"
      ]
     },
     "execution_count": 47,
     "metadata": {},
     "output_type": "execute_result"
    },
    {
     "data": {
      "image/png": "[encoded data removed]",
      "text/plain": [
       "<Figure size 432x288 with 1 Axes>"
      ]
     },
     "metadata": {
      "needs_background": "light"
     },
     "output_type": "display_data"
    }
   ],
   "source": [
    "pd.DataFrame(x2).hist()"
   ]
  },
  {
   "cell_type": "code",
   "execution_count": 53,
   "metadata": {},
   "outputs": [
    {
     "data": {
      "text/plain": [
       "array([[<matplotlib.axes._subplots.AxesSubplot object at 0x000001B28E78D240>]],\n",
       "      dtype=object)"
      ]
     },
     "execution_count": 53,
     "metadata": {},
     "output_type": "execute_result"
    },
    {
     "data": {
      "image/png": "[encoded data removed]",
      "text/plain": [
       "<Figure size 432x288 with 1 Axes>"
      ]
     },
     "metadata": {
      "needs_background": "light"
     },
     "output_type": "display_data"
    }
   ],
   "source": [
    "pd.DataFrame(x3).hist()"
   ]
  },
  {
   "cell_type": "markdown",
   "metadata": {},
   "source": [
    "Acá se ve cómo el promedio de varias muestras hace que el histograma se vaya haciedno más estrecho. Entre más valores tomen en cuenta tus promedios, más estrecho se hará el histograma.\n",
    "\"The\tdistribution\tof\ta\tsample\tstatistic\tsuch\tas\tthe\tmean\tis\tlikely\tto\tbe\tmore\tregular and\tbell-shaped\tthan\tthe\tdistribution\tof\tthe\tdata\titself\""
   ]
  },
  {
   "cell_type": "markdown",
   "metadata": {},
   "source": [
    "### Teorema de límite central"
   ]
  },
  {
   "cell_type": "markdown",
   "metadata": {},
   "source": [
    "Este teorema se puede observar en el ejemplo anterior, y es que estipula que las medias tomadas de distintas muestras, van a distribuirse normalmente, aun cuando la población no se distribuya de esta manera. Una condición para esto es que la muestra no sea muy chica, osea, no se mame... y que el alejamiento de los valores de la muestra hacía la normalidad, no sea muy grande (creo que es difícil que una muestra aleatoria resulte en puros outliers, por ejemplo, para que no pueda formar una normal).\n",
    "\n",
    "Este teorema permite aplicar fórmulas basadas en una distribución normal, como t-distribution. Es decir, realizar pruebas de hipótesis, sacar intervalos de confianza. Aun así, esto es para los estadísticos formalmente, los científicos de datos no utilizan tanto esto."
   ]
  },
  {
   "cell_type": "markdown",
   "metadata": {},
   "source": [
    "### Error estándar/Standard error\n",
    "Es una métrica que resume la variabilidad de una muestra __para un estadístico(media). Se calcula con base a la desviación estándar__.\n",
    "A medida de que el tamaño de la muestra sube, el error disminuye, así como el teorema central del límite lo evidencia.\n",
    "\"The\trelationship\tbetween\tstandard\terror\tand\tsample size\tis\tsometimes\treferred\tto\tas\tthe\tsquare-root\tof\tn\trule:\tin\torder\tto\treduce\tthe standard\terror\tby\ta\tfactor\tof\t2,\tthe\tsample\tsize\tmust\tbe\tincreased\tby\ta\tfactor\tof\t4.\""
   ]
  },
  {
   "cell_type": "code",
   "execution_count": 36,
   "metadata": {},
   "outputs": [],
   "source": [
    "#Paso #1\n",
    "x1=[]\n",
    "for i in range(1000):\n",
    "    x = df.sample(1000)\n",
    "    x = x.to_numpy()\n",
    "    s = sum(x)\n",
    "    avg = s/1000\n",
    "    x1.append(int(avg))\n",
    "x1=pd.DataFrame(x1)    "
   ]
  },
  {
   "cell_type": "code",
   "execution_count": 37,
   "metadata": {},
   "outputs": [],
   "source": [
    "x2=[]\n",
    "for i in range(1000):\n",
    "    x = df.sample(2000)\n",
    "    x = x.to_numpy()\n",
    "    s = sum(x)\n",
    "    avg = s/2000\n",
    "    x2.append(int(avg))\n",
    "x2=pd.DataFrame(x2)"
   ]
  },
  {
   "cell_type": "code",
   "execution_count": 38,
   "metadata": {},
   "outputs": [],
   "source": [
    "x3=[]\n",
    "for i in range(1000):\n",
    "    x = df.sample(4000)\n",
    "    x = x.to_numpy()\n",
    "    s = sum(x)\n",
    "    avg = s/4000\n",
    "    x3.append(int(avg))\n",
    "x3=pd.DataFrame(x3)    "
   ]
  },
  {
   "cell_type": "code",
   "execution_count": 40,
   "metadata": {},
   "outputs": [
    {
     "data": {
      "text/plain": [
       "0    32.843543\n",
       "dtype: float64"
      ]
     },
     "execution_count": 40,
     "metadata": {},
     "output_type": "execute_result"
    }
   ],
   "source": [
    "#Paso #2 y #3\n",
    "se1 = x1.std()/np.sqrt(1000)\n",
    "se1"
   ]
  },
  {
   "cell_type": "code",
   "execution_count": 41,
   "metadata": {},
   "outputs": [
    {
     "data": {
      "text/plain": [
       "0    16.078627\n",
       "dtype: float64"
      ]
     },
     "execution_count": 41,
     "metadata": {},
     "output_type": "execute_result"
    }
   ],
   "source": [
    "se2 = x2.std()/np.sqrt(2000)\n",
    "se2"
   ]
  },
  {
   "cell_type": "code",
   "execution_count": 42,
   "metadata": {},
   "outputs": [
    {
     "data": {
      "text/plain": [
       "0    7.935188\n",
       "dtype: float64"
      ]
     },
     "execution_count": 42,
     "metadata": {},
     "output_type": "execute_result"
    }
   ],
   "source": [
    "se3 = x3.std()/np.sqrt(4000)\n",
    "se3"
   ]
  },
  {
   "cell_type": "markdown",
   "metadata": {},
   "source": [
    "Se cumple la teoría del error estándar, pero esta práctica no es confiable. Para ello, existe Bootstrap\n",
    "\n",
    "#### Nota:\n",
    "- Do\tnot\tconfuse\tstandard\tdeviation\t(which\tmeasures\tthe\tvariability\tof\tindividual\tdata\tpoints)\twith standard\terror\t(which\tmeasures\tthe\tvariability\tof\ta\tsample\tmetric).\n"
   ]
  },
  {
   "cell_type": "markdown",
   "metadata": {},
   "source": [
    "### Bootstrap\n",
    "De una muestra se generan otras muestras, con reemplazo, n veces. De esta manera vas a tener como resultado una muestra más grande generada a partir de tu muestra original. Lo que cambia acá es que no hay asunciones sobre si la distribución de los datos será normal."
   ]
  },
  {
   "cell_type": "code",
   "execution_count": 43,
   "metadata": {},
   "outputs": [],
   "source": [
    "#Utilizaré la misma función que hice antes, solo que activare el reemplazo:\n",
    "#Paso #1\n",
    "x1=[]\n",
    "for i in range(1000):\n",
    "    x = df.sample(1000,replace=True)\n",
    "    x = x.to_numpy()\n",
    "    s = sum(x)\n",
    "    avg = s/1000\n",
    "    x1.append(int(avg))\n",
    "x1=pd.DataFrame(x1)"
   ]
  },
  {
   "cell_type": "code",
   "execution_count": 44,
   "metadata": {},
   "outputs": [],
   "source": [
    "x2=[]\n",
    "for i in range(1000):\n",
    "    x = df.sample(2000,replace=True)\n",
    "    x = x.to_numpy()\n",
    "    s = sum(x)\n",
    "    avg = s/2000\n",
    "    x2.append(int(avg))\n",
    "x2=pd.DataFrame(x2)"
   ]
  },
  {
   "cell_type": "code",
   "execution_count": 45,
   "metadata": {},
   "outputs": [],
   "source": [
    "x3=[]\n",
    "for i in range(1000):\n",
    "    x = df.sample(4000,replace=True)\n",
    "    x = x.to_numpy()\n",
    "    s = sum(x)\n",
    "    avg = s/4000\n",
    "    x3.append(int(avg))\n",
    "x3=pd.DataFrame(x3)"
   ]
  },
  {
   "cell_type": "code",
   "execution_count": 46,
   "metadata": {},
   "outputs": [
    {
     "data": {
      "text/plain": [
       "array([[<matplotlib.axes._subplots.AxesSubplot object at 0x00000155A66899B0>]],\n",
       "      dtype=object)"
      ]
     },
     "execution_count": 46,
     "metadata": {},
     "output_type": "execute_result"
    },
    {
     "data": {
      "image/png": "[encoded data removed]",
      "text/plain": [
       "<Figure size 432x288 with 1 Axes>"
      ]
     },
     "metadata": {
      "needs_background": "light"
     },
     "output_type": "display_data"
    }
   ],
   "source": [
    "x1.hist()"
   ]
  },
  {
   "cell_type": "code",
   "execution_count": 47,
   "metadata": {},
   "outputs": [
    {
     "data": {
      "text/plain": [
       "array([[<matplotlib.axes._subplots.AxesSubplot object at 0x00000155A6A0B2E8>]],\n",
       "      dtype=object)"
      ]
     },
     "execution_count": 47,
     "metadata": {},
     "output_type": "execute_result"
    },
    {
     "data": {
      "image/png": "[encoded data removed]",
      "text/plain": [
       "<Figure size 432x288 with 1 Axes>"
      ]
     },
     "metadata": {
      "needs_background": "light"
     },
     "output_type": "display_data"
    }
   ],
   "source": [
    "x2.hist()"
   ]
  },
  {
   "cell_type": "code",
   "execution_count": 48,
   "metadata": {},
   "outputs": [
    {
     "data": {
      "text/plain": [
       "array([[<matplotlib.axes._subplots.AxesSubplot object at 0x00000155A6A0B978>]],\n",
       "      dtype=object)"
      ]
     },
     "execution_count": 48,
     "metadata": {},
     "output_type": "execute_result"
    },
    {
     "data": {
      "image/png": "[encoded data removed]",
      "text/plain": [
       "<Figure size 432x288 with 1 Axes>"
      ]
     },
     "metadata": {
      "needs_background": "light"
     },
     "output_type": "display_data"
    }
   ],
   "source": [
    "x3.hist()"
   ]
  },
  {
   "cell_type": "markdown",
   "metadata": {},
   "source": [
    "#### Qué hace bootstrap?\n",
    "It\tmerely\tinforms\tus\tabout\thow\tlots\tof\tadditional\tsamples would\tbehave\twhen\tdrawn\tfrom\ta\tpopulation\tlike\tour\toriginal\tsample."
   ]
  },
  {
   "cell_type": "markdown",
   "metadata": {},
   "source": [
    "### Resampleo vs Bootstrap / Resampling vs Bootstrapping"
   ]
  },
  {
   "cell_type": "markdown",
   "metadata": {},
   "source": [
    "Estos términos se usan como sinónimos a veces, pero en realidad, son diferentes. El resampleo es combinar varias muestras y hacer el sampleo (generar tu muestra final) sin reemplazo."
   ]
  },
  {
   "cell_type": "markdown",
   "metadata": {},
   "source": [
    "### Intervalos de confianza\n",
    "Esta es otra métrica que sirve para estimar el error en una muestra. El intervalo de confianza nos dice que un 'x%' de una métrica(media) sacada de una muestra, en promedio, contendra esas métricas x% de las ocasiones.\n",
    "\"it\tis\tthe\tinterval\tthat\tencloses\tthe\tcentral\t90%\tof\tthe\t__bootstrap\tsampling distribution__\tof\ta\tsample\tstatistic.\"\n",
    "\n",
    "- NO ES LA PROBABILIDAD DE QUE LOS VALORES REALES ESTARAN EN EL INTERVALO.\n",
    "- Es más esto: \t“Given\ta sampling\tprocedure\tand\ta\tpopulation,\twhat\tis\tthe\tprobability\tthat…”\tTo\tgo\tin\tthe\topposite direction,\t“Given\ta\tsample\tresult,\twhat\tis\tthe\tprobability\tthat\t(something\tis\ttrue\tabout\tthe population),”\tinvolves\tmore\tcomplex\tcalculations\tand\tdeeper\timponderables.\n",
    "\n",
    "https://towardsdatascience.com/how-confidence-and-prediction-intervals-work-4592019576d8\n",
    "\n",
    "https://medium.com/@bhupenderair/confidence-intervals-simple-explanation-167e12143ed9 !!!!!!\n",
    "- Se utiliza t-student cuando no sabes la media o varianza de la población.\n",
    "- Se utiliza z-score cuando conoces la media o varianza de la P."
   ]
  },
  {
   "cell_type": "markdown",
   "metadata": {},
   "source": [
    "### Distribición normal/Normal distribution\n",
    "El hecho de que la mayoría de las distribuciones de los datos de sampleos sea de manera normal, ha permitido la generación de varios cálculos estadísticos. Es importante recalcar que, esta generalidad de distribución solo ocurre en los sampleos y no en las poblaciones.\n",
    "- 68% de los datos existe a 1 desviación estandar de la media.\n",
    "- 95% a 2 desviaciones y,\n",
    "- 99.7% a 3."
   ]
  },
  {
   "cell_type": "markdown",
   "metadata": {},
   "source": [
    "#### Normal estandar y qqplot / Standard\tNormal\tand\tQQ-Plots \n",
    "Las QQ-Plots sirven para ver si nuestros datos estan distribuidos de cierta manera, por ejemplo, normal."
   ]
  },
  {
   "cell_type": "code",
   "execution_count": 3,
   "metadata": {},
   "outputs": [],
   "source": [
    "# ejemplo de unos datos distribuidos normalmente\n",
    "normal=[np.random.normal() for i in range(1000)]"
   ]
  },
  {
   "cell_type": "code",
   "execution_count": 4,
   "metadata": {},
   "outputs": [],
   "source": [
    "import statsmodels.api as sm\n",
    "from matplotlib import pyplot as plt"
   ]
  },
  {
   "cell_type": "code",
   "execution_count": 6,
   "metadata": {},
   "outputs": [
    {
     "data": {
      "image/png": "[encoded data removed]",
      "text/plain": [
       "<Figure size 432x288 with 1 Axes>"
      ]
     },
     "metadata": {
      "needs_background": "light"
     },
     "output_type": "display_data"
    }
   ],
   "source": [
    "# Create QQ plot\n",
    "sm.qqplot(np.array(normal), line='45')\n",
    "plt.show()"
   ]
  },
  {
   "cell_type": "code",
   "execution_count": 27,
   "metadata": {},
   "outputs": [
    {
     "data": {
      "image/png": "[encoded data removed]",
      "text/plain": [
       "<Figure size 432x288 with 1 Axes>"
      ]
     },
     "metadata": {
      "needs_background": "light"
     },
     "output_type": "display_data"
    }
   ],
   "source": [
    "# ahora creando un ejemplo con datos distribuidos no-normalmente\n",
    "import random# Generate some uniformly distributed random variables\n",
    "random_uniform = [random.random() for i in range(1000)]# Create QQ plot\n",
    "sm.qqplot(np.array(random_uniform), line='45')\n",
    "plt.show()"
   ]
  },
  {
   "cell_type": "code",
   "execution_count": 26,
   "metadata": {},
   "outputs": [],
   "source": [
    "#???? me estoy haciendo mucho bolas.\n",
    "#dejo aca este link donde hay guias de ver si una distribución es normal, no solo con qq-plots:\n",
    "#https://medium.com/@rrfd/testing-for-normality-applications-with-python-6bf06ed646a9"
   ]
  },
  {
   "cell_type": "markdown",
   "metadata": {},
   "source": [
    "#### Long-tail distribution"
   ]
  },
  {
   "cell_type": "code",
   "execution_count": 28,
   "metadata": {},
   "outputs": [],
   "source": [
    "df = pd.read_csv(\"D:/Documentos/Python for Data Projects/datos_practical_statistics/sp500_data.csv\")"
   ]
  },
  {
   "cell_type": "code",
   "execution_count": 31,
   "metadata": {},
   "outputs": [
    {
     "data": {
      "image/png": "[encoded data removed]",
      "text/plain": [
       "<Figure size 432x288 with 1 Axes>"
      ]
     },
     "metadata": {
      "needs_background": "light"
     },
     "output_type": "display_data"
    }
   ],
   "source": [
    "sm.qqplot(np.array(df.NFLX), line='45')\n",
    "plt.show()"
   ]
  },
  {
   "cell_type": "markdown",
   "metadata": {},
   "source": [
    "#### t-distribution o t-student\n",
    "Tiene una formal normal pero más picuda en el medio y con colas más largas\n",
    "\n",
    "__Nota__:\n",
    "What\tdo\tdata\tscientists\tneed\tto\tknow\tabout\tthe\tt-distribution\tand\tthe\tcentral\tlimit\ttheorem?\tNot\ta whole\tlot.\tThese\tdistributions\tare\tused\tin\tclassical\tstatistical\tinference,\tbut\tare\tnot\tas\tcentral\tto the\tpurposes\tof\tdata\tscience.\tUnderstanding\tand\tquantifying\tuncertainty\tand\tvariation\tare important\tto\tdata\tscientists,\tbut\tempirical\tbootstrap\tsampling\tcan\tanswer\tmost\tquestions\tabout sampling\terror.\tHowever,\tdata\tscientists\twill\troutinely\tencounter\tt-statistics\tin\toutput\tfrom statistical\tsoftware\tand\tstatistical\tprocedures\tin\tR,\tfor\texample\tin\tA-B\ttests\tand\tregressions,\tso familiarity\twith\tits\tpurpose\tis\thelpful.\n"
   ]
  },
  {
   "cell_type": "markdown",
   "metadata": {},
   "source": [
    "#### binomial\n",
    "Yes/no\t(binomial)\toutcomes\tlie\tat\tthe\theart\tof\tanalytics\tsince\tthey\tare\toften\tthe culmination\tof\ta\tdecision\tor\tother\tprocess;\tbuy/don’t\tbuy,\tclick/don’t\tclick, survive/die,\tand\tso\ton.\tCentral\tto\tunderstanding\tthe\tbinomial\tdistribution\tis\tthe idea\tof\ta\tset\tof\ttrials,\teach\ttrial\thaving\ttwo\tpossible\toutcomes\twith\tdefinite probabilities."
   ]
  },
  {
   "cell_type": "markdown",
   "metadata": {},
   "source": [
    "#### poisson\n",
    "para estimar el numero de eventos 'x' que van a ocurrir en cierto tiempo\n",
    "\n",
    "rpois(100,\tlambda\t=\t2)\n",
    "This\tcode\twill\tgenerate\t100\trandom\tnumbers\tfrom\ta\tPoisson\tdistribution\twith\t=\t2.\tFor\texample,\tif\tincoming\tcustomer\tservice\tcalls\taverage\t2\tper\tminute,\tthis code\twill\tsimulate\t100\tminutes,\treturning\tthe\tnumber\tof\tcalls\tin\teach\tof\tthose\t100 minutes."
   ]
  },
  {
   "cell_type": "markdown",
   "metadata": {},
   "source": [
    "_hay otras 3 distribuciones más que no vi, dejo esta nota para estar consciente de esto_"
   ]
  }
 ],
 "metadata": {
  "kernelspec": {
   "display_name": "Python 3",
   "language": "python",
   "name": "python3"
  },
  "language_info": {
   "codemirror_mode": {
    "name": "ipython",
    "version": 3
   },
   "file_extension": ".py",
   "mimetype": "text/x-python",
   "name": "python",
   "nbconvert_exporter": "python",
   "pygments_lexer": "ipython3",
   "version": "3.7.3"
  }
 },
 "nbformat": 4,
 "nbformat_minor": 2
}
